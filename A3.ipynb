{
  "cells": [
    {
      "cell_type": "markdown",
      "metadata": {
        "id": "view-in-github",
        "colab_type": "text"
      },
      "source": [
        "<a href=\"https://colab.research.google.com/github/dlkt101101/CS431/blob/main/A3.ipynb\" target=\"_parent\"><img src=\"https://colab.research.google.com/assets/colab-badge.svg\" alt=\"Open In Colab\"/></a>"
      ]
    },
    {
      "cell_type": "markdown",
      "metadata": {
        "id": "4yIKQ-LR5nBk"
      },
      "source": [
        "## CS431 Data Intensive Distributed Analytics\n",
        "### Winter 2025 - Assignment 3\n",
        "---"
      ]
    },
    {
      "cell_type": "markdown",
      "metadata": {
        "id": "iCp5Oj1e5nBn"
      },
      "source": [
        "**Please edit this (text) cell to provide your name and UW student ID number!**\n",
        "* **Name:** _Darren Lam Kin Teng_\n",
        "* **ID:** _20977843_"
      ]
    },
    {
      "cell_type": "markdown",
      "metadata": {
        "id": "vdL9NkD55nBo"
      },
      "source": [
        "---\n",
        "#### Overview\n",
        "For this assignment, you will be using Python and Spark to perform some graph analysis, using a graph of the Gnutella server network.   In this graph, each node represents a server, and each (directed) edge represents a connection between servers in Gnutella's peer-to-peer network.  The input file for this assignment, `p2p-Gnutella08-adj.txt`, represents the graph as an adjacency list.   Each server (node) is identified by a unique number, and each line in the file gives the adjacency list for a single server.\n",
        "For example, this line:\n",
        "> 91\t243\t1923\t2194\n",
        "\n",
        "gives the adjacency list for server `91`.   It indicates that there are edges from server `91` to servers `243`, `1923`, and `2194`.    According to the Stanford Network Analysis Project, which collected these data, [the graph includes 6301 servers and 20777 edges](http://snap.stanford.edu/data/p2p-Gnutella08.html).\n",
        "\n",
        "Run the following block to install Spark and download the input file."
      ]
    },
    {
      "cell_type": "code",
      "execution_count": 3,
      "metadata": {
        "id": "3PNw3CWW5nBp",
        "colab": {
          "base_uri": "https://localhost:8080/"
        },
        "outputId": "5c6eff39-afb8-43a6-b208-caf5338a916c"
      },
      "outputs": [
        {
          "output_type": "stream",
          "name": "stdout",
          "text": [
            "W: Skipping acquire of configured file 'main/source/Sources' as repository 'https://r2u.stat.illinois.edu/ubuntu jammy InRelease' does not seem to provide it (sources.list entry misspelt?)\n"
          ]
        }
      ],
      "source": [
        "!apt-get update -qq > /dev/null\n",
        "!apt-get install openjdk-8-jdk-headless -qq > /dev/null\n",
        "!curl -Os https://student.cs.uwaterloo.ca/~cs451/spark/spark-3.4.3-bin-hadoop3.tgz\n",
        "!tar xzf spark-3.4.3-bin-hadoop3.tgz\n",
        "!pip install -q findspark\n",
        "!curl -Os https://student.cs.uwaterloo.ca/~cs451/content/cs431/p2p-Gnutella08-adj.txt"
      ]
    },
    {
      "cell_type": "markdown",
      "metadata": {
        "id": "sszv-iP54uOi"
      },
      "source": [
        "### Or\n",
        "Run the following block to download just the input file (for those running on their own machine)"
      ]
    },
    {
      "cell_type": "code",
      "execution_count": 4,
      "metadata": {
        "id": "G6BNVmIB4uOi"
      },
      "outputs": [],
      "source": [
        "!curl -Os https://student.cs.uwaterloo.ca/~cs451/content/cs431/p2p-Gnutella08-adj.txt"
      ]
    },
    {
      "cell_type": "markdown",
      "metadata": {
        "id": "Xw1R3GD24uOj"
      },
      "source": [
        "set the environment variables (needed on Colab, shouldn't be needed on your own machine - and if it is, these values are likely not correct!)"
      ]
    },
    {
      "cell_type": "code",
      "execution_count": 5,
      "metadata": {
        "id": "-R5QEwMU4uOj"
      },
      "outputs": [],
      "source": [
        "import os\n",
        "os.environ[\"JAVA_HOME\"] = \"/usr/lib/jvm/java-8-openjdk-amd64\"\n",
        "os.environ[\"SPARK_HOME\"] = \"/content/spark-3.4.3-bin-hadoop3\"\n"
      ]
    },
    {
      "cell_type": "markdown",
      "metadata": {
        "id": "6rnFWG115nBq"
      },
      "source": [
        "and then create a `SparkContext`:"
      ]
    },
    {
      "cell_type": "code",
      "execution_count": 6,
      "metadata": {
        "id": "0kx1nY435nBr"
      },
      "outputs": [],
      "source": [
        "import findspark\n",
        "findspark.init()\n",
        "\n",
        "from pyspark import SparkContext, SparkConf\n",
        "\n",
        "spark_conf = SparkConf()\\\n",
        "  .setAppName(\"YourTest\")\\\n",
        "  .setMaster(\"local[*]\")\n",
        "\n",
        "sc = SparkContext.getOrCreate(spark_conf)"
      ]
    },
    {
      "cell_type": "markdown",
      "metadata": {
        "id": "1jfQ1hh04uOk"
      },
      "source": [
        "#### Colab code to view the Spark UI\n",
        "This box will definitely not work on your own machine, which is fine, on your own machine the box above will have given you a local link - ctrl+click should open it in most editor"
      ]
    },
    {
      "cell_type": "code",
      "execution_count": 5,
      "metadata": {
        "id": "yKsOgHWg4uOl",
        "colab": {
          "base_uri": "https://localhost:8080/",
          "height": 69
        },
        "outputId": "1de11e72-e88d-428f-f0f7-ccf4ec04e613"
      },
      "outputs": [
        {
          "output_type": "stream",
          "name": "stdout",
          "text": [
            "\u001b[31mWarning: This function may stop working due to changes in browser security.\n",
            "Try `serve_kernel_port_as_iframe` instead. \u001b[0m\n"
          ]
        },
        {
          "output_type": "display_data",
          "data": {
            "text/plain": [
              "<IPython.core.display.Javascript object>"
            ],
            "application/javascript": [
              "(async (port, path, text, element) => {\n",
              "    if (!google.colab.kernel.accessAllowed) {\n",
              "      return;\n",
              "    }\n",
              "    element.appendChild(document.createTextNode(''));\n",
              "    const url = await google.colab.kernel.proxyPort(port);\n",
              "    const anchor = document.createElement('a');\n",
              "    anchor.href = new URL(path, url).toString();\n",
              "    anchor.target = '_blank';\n",
              "    anchor.setAttribute('data-href', url + path);\n",
              "    anchor.textContent = text;\n",
              "    element.appendChild(anchor);\n",
              "  })(4040, \"/jobs/index.html\", \"https://localhost:4040/jobs/index.html\", window.element)"
            ]
          },
          "metadata": {}
        }
      ],
      "source": [
        "from google.colab import output\n",
        "output.serve_kernel_port_as_window(4040, path='/jobs/index.html')\n",
        "# This will create a link below. You must click the link, do not copy & paste the URL as that's the \"local\" URL and won't work on your machine"
      ]
    },
    {
      "cell_type": "markdown",
      "metadata": {
        "id": "FsQFCPO85nBs"
      },
      "source": [
        "---\n",
        "## Important\n",
        "### Watch Your Types\n",
        "###### The questions that follow ask you to implement functions whose prototypes are given to you. Do **NOT** change the prototypes of the functions.\n",
        "###### This means: Do not change the type of value returned, do not add or remove parameters.\n",
        "### No Top-Level Expressions\n",
        "###### Do **NOT** write code outside of functions. All necessary code should be included in the function body (except for import statements). You may declare functions inside of the function body. When marking, we will execute your code by calling the functions from an external program, which is why your code cannot rely on statements running outside functions. Please remove any call to the functions that you may have introduced for test purposes before submitting your notebook.  Better still, create new cells for your tests, then you do not need to remember to delete anything\n",
        "### Dummy Values\n",
        "###### The function prototypes all return a default value, labelled as a dummy.  This is so that the cell is runnable even if you do not do a question.  You should replace this value with the correct value.\n",
        "### New Cells\n",
        "###### The best way to test your code is to create a NEW code cell from which to call your functions.  We will **ONLY** run the code cells that **WE** provided.  So do not put any helper functions in these cells, unless the helper is **ONLY** for use with your tests.  Any helpers needed by your solutions themselves must go in the original code cell.  (All cells will be put into a single .py file, so you do not need to copy and paste a helper from one question to the next)"
      ]
    },
    {
      "cell_type": "markdown",
      "metadata": {
        "id": "x2xfj_3e5nBt"
      },
      "source": [
        "---\n",
        "#### Question 1  (6/24 marks):\n",
        "\n",
        "To get warmed up, you should first write Spark code to confirm or determine some basic properties of the Gnutella graph.  Write code in the provided functions that will return answers to the following questions, as specified in each function's documentation:\n",
        "- How many nodes and edges are there in the graph?  (This should confirm the numbers given above.)\n",
        "- How many nodes of each outdegree are there? That is, how many nodes have no outgoing edges, how many have one outgoing edge, how many have two outgoing edges, and so on?\n",
        "- How many nodes of each indegree are there?\n",
        "\n",
        "You should use Spark to answer these questions.   Do *not* load the entire graph into your Python driver program."
      ]
    },
    {
      "cell_type": "code",
      "execution_count": 11,
      "metadata": {
        "id": "TnoJMCQY5nBu"
      },
      "outputs": [],
      "source": [
        "# Q1\n",
        "def num_nodes_edges():\n",
        "    \"\"\"Returns a tuple (num_nodes, num_edges)\"\"\"\n",
        "    #### Your code for Question 1.1 should go here\n",
        "    graph = sc.textFile(\"p2p-Gnutella08-adj.txt\").map(lambda x: x.strip().split('\\t'))\n",
        "    nodes = graph.count()\n",
        "    edges = graph.map(lambda x: len(x[1:])).sum()\n",
        "    return (nodes, edges)\n",
        "\n",
        "def out_counts():\n",
        "    \"\"\"Returns a dictionary where the keys are the outdegrees, and the\n",
        "    values are the number of nodes of the corresponding outdegree \"\"\"\n",
        "    #### Your code for Question 1.2 should go here\n",
        "    graph = sc.textFile(\"p2p-Gnutella08-adj.txt\").map(lambda x: x.strip().split('\\t'))\n",
        "\n",
        "    # the number of neighbours a source node has is the outdegree\n",
        "    def processLine(line):\n",
        "      id, *neighbours = line\n",
        "      return (len(neighbours), 1)\n",
        "    dictionary = graph.map(processLine).reduceByKey(lambda x,y: x+y).collectAsMap()\n",
        "    return dictionary\n",
        "\n",
        "def in_counts():\n",
        "    \"\"\"Returns a dictionary where the keys are the indegrees, and the\n",
        "    values are the number of nodes of the corresponding indegree \"\"\"\n",
        "    #### Your code for Question 1.3 should go here\n",
        "    graph = sc.textFile(\"p2p-Gnutella08-adj.txt\").map(lambda x: x.strip().split('\\t')).cache()\n",
        "\n",
        "    # consider nodes that can be a source and target\n",
        "    edges = graph.flatMap(lambda x: [(neighbour, 1) for neighbour in x[1:]])\n",
        "    # consider nodes that are only sources\n",
        "    source_node = graph.map(lambda x: (x[0], 0))\n",
        "    # reduce\n",
        "    allNodes = source_node.union(edges).reduceByKey(lambda x, y: x+y)\n",
        "    inDegree_dict = (\n",
        "        allNodes.map(lambda x: (x[1], 1))\n",
        "        .reduceByKey(lambda x,y: x+y)\n",
        "        .collectAsMap()\n",
        "        )\n",
        "    return inDegree_dict"
      ]
    },
    {
      "cell_type": "markdown",
      "metadata": {
        "id": "jNp6bYDY5nBv"
      },
      "source": [
        "---\n",
        "Your main objective for this assignment is to perform *single source personalized page rank* over the Gnutella graph.  To get started, you should make sure that you have a clear understanding of ordinary (i.e., non-personalized) page rank.  Read the description of page rank in Section 5.3 of [the course textbook](https://lintool.github.io/MapReduceAlgorithms/index.html).   Personalized page rank is like ordinary page rank except:\n",
        "- One node in the graph is designated as the *source* node. Personalized page rank is performed with respect to that source node.\n",
        "- Personalized page rank is initialized by assigning all probability mass to the source node, and none to the other nodes. In contrast, ordinary page rank is initialized by giving all nodes the same probability mass.\n",
        "- Whenever personalized page rank makes a random jump, it jumps back to the source node. In contrast, ordinary page rank may jump to any node.\n",
        "- In personalized page rank, all probability mass lost dangling nodes is put back into the source nodes.  In ordinary page rank, lost mass is distributed evenly over all nodes.\n",
        "\n",
        "#### Testing Tips\n",
        "\n",
        "Look at the first few lines of the input file. Try using node 0 as the source node and run it for 1 iteration. The source node should have `jump_factor` for its rank, and its out neighbours should all have the same value - `(1 - jump_factor) / degree(node 0)`\n",
        "\n",
        "Once that works, try doing the math for 2 iterations and then confirm that works, too. Make sure it's handling all cases correctly.\n",
        "\n",
        "You might also consider making a smaller input file to test on so the math is easier to do.\n",
        "\n",
        "#### Question 2  (10/24 marks):\n",
        "\n",
        "Your task is to write a Spark program to perform personalized page rank over the Gnutella graph for a specified number of iterations, and of course a specific node. The function you will implement takes three input values:\n",
        "- source node id (a non-negative integer)\n",
        "- iteration count (a positive integer)\n",
        "- random jump factor value (a float between 0 and 1) - This is 1-B as introduced in the lecture.\n",
        "\n",
        "The function should perform personalized page rank, with respect to the specified source node, over the Gnutella graph, for the specified number of iterations, using Spark.\n",
        "The output of your function should be a list of the 10 nodes with the highest personalized page rank with respect to the given source. For each of the 10 nodes, return the node's id and page rank value as a tuple. The list returned by the function should therefore look something like this: `[(node_id_1, highest_pagerank_value), ..., (node_id_10, 10th_highest_pagerank_value)]`"
      ]
    },
    {
      "cell_type": "code",
      "source": [
        "def personalized_page_rank(source_node_id, num_iterations, jump_factor):\n",
        "    \"\"\"Returns a list of the 10 nodes with the highest page rank value along with their value, as tuples\n",
        "    [(node_id_1, highest_pagerank_value), ..., (node_id_10, 10th_highest_pagerank_value)]\"\"\"\n",
        "    graph = (\n",
        "        sc.textFile(\"p2p-Gnutella08-adj.txt\")\n",
        "        .map(lambda x: x.strip().split('\\t'))\n",
        "        .map(lambda x: (x[0], [neighbour for neighbour in x[1:]]))\n",
        "        .cache()\n",
        "    )  # (id, [outgoing edges of id])\n",
        "\n",
        "    # Get N = total nodes\n",
        "    N = graph.count()\n",
        "    nodes = sc.broadcast(graph.keys().collect())\n",
        "\n",
        "    # Initialize the rank of all nodes (id, rank)\n",
        "    # For personalized PageRank, only the source node starts with rank 1\n",
        "    pageRank = (\n",
        "        graph.map(lambda line: (line[0], 1.0 if source_node_id == line[0] else 0.0))\n",
        "        .cache()\n",
        "    )\n",
        "    for i in range(num_iterations):\n",
        "      # Calculate contributions: PR(y)/out_degree(y)\n",
        "      contributions = (\n",
        "            graph.join(pageRank)  # (id, ([outgoing edges], rank))\n",
        "            .flatMap(lambda x: [(neighbour, x[1][1] / len(x[1][0])) for neighbour in x[1][0]]\n",
        "                     if len(x[1][0]) > 0 else\n",
        "                     [(node, x[1][1]/N) for node in nodes.value])\n",
        "            .reduceByKey(lambda a, b: a + b)\n",
        "            .cache()\n",
        "        )\n",
        "      # Apply the PageRank formula\n",
        "      pageRank = (\n",
        "            graph.map(lambda x: (x[0], 0.0))  # Start with all nodes having 0 rank\n",
        "            .leftOuterJoin(contributions)  # (id, (0.0, Optional[contribution]))\n",
        "            .mapValues(lambda x: (1 - jump_factor) * (1.0 if source_node_id == x[0] else 0.0) +\n",
        "                      jump_factor * (x[1] if x[1] is not None else 0.0))\n",
        "            .cache()\n",
        "        )\n",
        "      return pageRank.sortBy(lambda x: x[1], ascending=False).take(10)"
      ],
      "metadata": {
        "id": "dz3N5jNvfn-9"
      },
      "execution_count": 50,
      "outputs": []
    },
    {
      "cell_type": "code",
      "source": [
        "personalized_page_rank(0, 1, 0.5)"
      ],
      "metadata": {
        "colab": {
          "base_uri": "https://localhost:8080/"
        },
        "id": "ei66Ba2ubw8a",
        "outputId": "3abeb481-00ed-4b98-bff5-c8541838d756"
      },
      "execution_count": 51,
      "outputs": [
        {
          "output_type": "execute_result",
          "data": {
            "text/plain": [
              "[('5', 0.5),\n",
              " ('7', 0.5),\n",
              " ('14', 0.5),\n",
              " ('18', 0.5),\n",
              " ('21', 0.5),\n",
              " ('26', 0.5),\n",
              " ('40', 0.5),\n",
              " ('62', 0.5),\n",
              " ('70', 0.5),\n",
              " ('72', 0.5)]"
            ]
          },
          "metadata": {},
          "execution_count": 51
        }
      ]
    },
    {
      "cell_type": "markdown",
      "metadata": {
        "id": "RmZAajwV5nBw"
      },
      "source": [
        "---\n",
        "#### Question 3  (4/24 marks):\n",
        "\n",
        "For the previous question, you implemented personalized page rank that ran for a specified number of iterations.  However, it is also common to write iterative algorithms that run until some specified termination condition is reached.\n",
        "For example, for page rank, suppose the $p_i(x)$ represents the probability mass assigned to node $x$ after the $i$th iteration of the algorithm.  ($p_0(x)$ is the initial probability mass of node $x$.)   We define the change of $x$'s probability mass on the $i$th iteration as $\\lvert p_i(x)-p_{i-1}(x) \\rvert$.   Then, we can iterate personalized page rank until the maximum (over all nodes) change is less than a specified threshold, i.e, until all nodes' page ranks have converged.\n",
        "\n",
        "For this question, modify your personalized page rank implementation from Question 2 so that it iterates until the\n",
        "maximum node change is less than $\\frac{0.5}{N}$, where $N$ represents the number of nodes in the graph.\n",
        "This version of the function should take only two inputs: the source node id and the random jump factor."
      ]
    },
    {
      "cell_type": "code",
      "execution_count": null,
      "metadata": {
        "id": "whRf8BnZ5nBx"
      },
      "outputs": [],
      "source": [
        "# Q3\n",
        "def personalized_page_rank_stopping_criterion(source_node_id, jump_factor):\n",
        "    \"\"\"Returns a list of the 10 nodes with the highest page rank value along with their value, as tuples\n",
        "    [(node_id_1, highest_pagerank_value), ..., (node_id_10, 10th_highest_pagerank_value)]\"\"\"\n",
        "    # your solution to Question 3 here\n",
        "    return [] # dummy value\n",
        "\n"
      ]
    },
    {
      "cell_type": "markdown",
      "metadata": {
        "id": "suYKj6_S5nBy"
      },
      "source": [
        "---\n",
        "#### Question 4  (4/24 marks):\n",
        "\n",
        "Spark provides the ability to *cache* RDDs.   This is useful when an RDD will be used more than once.   Instead of computing the same RDD multiple times, it can be computed once, cached, and then re-used from the cache.   Read about caching in the Spark textbook, or in the [persistence section of the Spark RDD programming guide](https://spark.apache.org/docs/latest/rdd-programming-guide.html#rdd-persistence).   Caching can be particularly effective for iterative Spark applications, like those you are writing for this assignment.\n",
        "\n",
        "For this question, go back to the code that you wrote to answer Question 3, and add caching.   (Caching will not affect the functionality of your code, i.e., what it computes.   It should only affect performance.)   Don't worry about different persistence levels.   Just use `cache()`, which caches RDDs at the default persistence level.\n",
        "\n",
        "In addition to adding `cache()` calls in your code, use the text cell below to briefly explain how you decided which RDDs to cache.\n",
        "\n",
        "If you were not able to finish Question 3, add caching annotations to your solution for Question 2 instead.\n",
        "\n",
        "IMPORTANT: Because the files are small, the OS will retain the intermediate shuffle files so you won't actually see any improvement in you running times! (This means you have to think about what to cache rather than trying various places to trial and error it)."
      ]
    },
    {
      "cell_type": "markdown",
      "metadata": {
        "id": "A_fRhytv5nBy"
      },
      "source": [
        "---\n",
        "#### Your answer to Question 4:\n",
        "\n",
        "*Replace this with your `cache()` explanation from Question 4.*\n",
        "I added cache to the initial RDD that I created since it is the \"source\" data and has been used to manipulate the data to something useable.\n",
        "\n"
      ]
    },
    {
      "cell_type": "markdown",
      "metadata": {
        "id": "4AAWthLp5nBz"
      },
      "source": [
        "---\n",
        "Don't forget to save your workbook!   When you are finished and you are ready to submit your assignment, download your notebook file (.ipynb) from the hub to your machine, and then follow the submission instructions in the assignment."
      ]
    }
  ],
  "metadata": {
    "colab": {
      "provenance": [],
      "include_colab_link": true
    },
    "kernelspec": {
      "display_name": "Python 3",
      "language": "python",
      "name": "python3"
    },
    "language_info": {
      "codemirror_mode": {
        "name": "ipython",
        "version": 3
      },
      "file_extension": ".py",
      "mimetype": "text/x-python",
      "name": "python",
      "nbconvert_exporter": "python",
      "pygments_lexer": "ipython3",
      "version": "3.10.9"
    }
  },
  "nbformat": 4,
  "nbformat_minor": 0
}