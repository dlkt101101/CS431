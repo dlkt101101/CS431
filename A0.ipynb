{
  "cells": [
    {
      "cell_type": "markdown",
      "metadata": {
        "id": "view-in-github",
        "colab_type": "text"
      },
      "source": [
        "<a href=\"https://colab.research.google.com/github/dlkt101101/CS431/blob/main/A0.ipynb\" target=\"_parent\"><img src=\"https://colab.research.google.com/assets/colab-badge.svg\" alt=\"Open In Colab\"/></a>"
      ]
    },
    {
      "cell_type": "markdown",
      "metadata": {
        "deletable": false,
        "id": "xZ7H7FmcDw5B",
        "tags": [
          "instructions"
        ]
      },
      "source": [
        "## CS431/631 Data Intensive Distributed Analytics\n",
        "### Winter 2025 - Assignment 0\n",
        "---"
      ]
    },
    {
      "cell_type": "markdown",
      "metadata": {
        "deletable": false,
        "id": "F4K1ZTGrDw5E",
        "tags": [
          "instructions"
        ]
      },
      "source": [
        "**Please edit this (text) cell to provide your name and UW student ID number!**\n",
        "* **Name:** _Darren Lam Kin Teng_\n",
        "* **ID:** _20977843_"
      ]
    },
    {
      "cell_type": "markdown",
      "metadata": {
        "id": "pBJ1H1i_ENGE"
      },
      "source": [
        "For this assignment, you will be using Python to do some analysis of the text of Shakespeare's plays.   Run the next block to download the text file (`Shakespeare.txt`) and the Python tokenizer module (`simple_tokenize.py`)."
      ]
    },
    {
      "cell_type": "code",
      "execution_count": null,
      "metadata": {
        "id": "rcXDTtuqENqF"
      },
      "outputs": [],
      "source": [
        "!wget -q https://student.cs.uwaterloo.ca/~cs451/content/cs431/Shakespeare.txt\n",
        "!wget -q https://student.cs.uwaterloo.ca/~cs451/content/cs431/simple_tokenize.py"
      ]
    },
    {
      "cell_type": "markdown",
      "metadata": {
        "deletable": false,
        "id": "yDOanRXeDw5F",
        "tags": [
          "instructions"
        ]
      },
      "source": [
        "---\n",
        "\n",
        "\n",
        "Let's first try running some simple Python code to make sure that everything is set up properly and ready to go.   The code in the next box will open `Shakespeare.txt`, read the file line by line, and tokenize each line that it reads in.    Try running the code by selecting the box and typing `Shift-Return`, i.e., hit the carriage return key while you are holding the shift key.   It may take a few seconds to run."
      ]
    },
    {
      "cell_type": "code",
      "execution_count": null,
      "metadata": {
        "colab": {
          "base_uri": "https://localhost:8080/"
        },
        "collapsed": true,
        "deletable": false,
        "id": "YQUhrqdADw5G",
        "outputId": "a22187ab-c8bb-4244-e6b1-340d3afccde7",
        "tags": [
          "instructions"
        ]
      },
      "outputs": [
        {
          "output_type": "execute_result",
          "data": {
            "text/plain": [
              "['the', 'end']"
            ]
          },
          "metadata": {},
          "execution_count": 2
        }
      ],
      "source": [
        "# this imports the SimpleTokenize function from the simple_tokenize.py file that you uploaded\n",
        "from simple_tokenize import simple_tokenize\n",
        "\n",
        "# Now, let's tokenize Shakespeare's plays\n",
        "filename = 'Shakespeare.txt'\n",
        "with open(filename) as f:\n",
        "    for line in f:\n",
        "        # tokenize, one line at a time\n",
        "        t = simple_tokenize(line)\n",
        "t"
      ]
    },
    {
      "cell_type": "markdown",
      "metadata": {
        "deletable": false,
        "id": "5Hf7FVbiDw5H",
        "tags": [
          "instructions"
        ]
      },
      "source": [
        "---\n",
        "### Important\n",
        "\n",
        "The questions that follow ask you to implement functions whose prototypes are given to you. **Do _not_ change the prototypes of the functions. Do _not_ write code outside of the functions.** In particular, do not use the same cell as the function declaration invoke the function.\n",
        "\n",
        "You may use specific cells, identified by `# Your tests here`, for test purposes. Code in these cells will *not* be executed when marking your assignment.\n",
        "\n",
        "---"
      ]
    },
    {
      "cell_type": "markdown",
      "metadata": {
        "deletable": false,
        "id": "23vjzVHSDw5I",
        "tags": [
          "instructions"
        ]
      },
      "source": [
        "#### Question 1  (2/10 marks):\n",
        "After the code has finished running, the notebook will display the resulting output immediately after cell.   In this case, you should see the output `['the', 'end']`. In the next cell, briefly explain why the code produced this output.\n"
      ]
    },
    {
      "cell_type": "markdown",
      "metadata": {
        "deletable": false,
        "id": "eASRhGexDw5I",
        "tags": [
          "answer"
        ]
      },
      "source": [
        "#### Your answer to Question 1:\n",
        "Answer: </br>\n",
        "Each line is tokenized and saved in the variable t. Therefore, t keeps on getting overwritten with a new line until the end.\n",
        "\n",
        "\n",
        "\n"
      ]
    },
    {
      "cell_type": "code",
      "execution_count": null,
      "metadata": {
        "id": "4e3hmpBwE0te"
      },
      "outputs": [],
      "source": []
    },
    {
      "cell_type": "markdown",
      "metadata": {
        "deletable": false,
        "id": "XyqvKBp6Dw5J",
        "tags": [
          "instructions"
        ]
      },
      "source": [
        "Now it is time for you to write some code.   Let's find the most frequently appearing tokens in Shakespeare's work.\n",
        "\n",
        "#### Question 2 (4/10 marks):\n",
        "In the next box, implement the function `top_50_tokens` using Python code that return the list of the 50 most frequently appearing tokens and their frequency, i.e., the number of times that each occurs.   Please use the `simple_tokenize` function, without modification, to tokenize the text, so that everyone is working with the same definition of what a token is.   If you wish, feel free to start with the Python code in the box above - just copy it from there and paste it below. The return type should be a list of pairs (tuples) e.g. `[(word1, freq1), (word2, freq2), ...]` sorted in descending order by frequency (e.g. `top_50_tokens()[0]` should be the most common word and its frequency)."
      ]
    },
    {
      "cell_type": "code",
      "execution_count": null,
      "metadata": {
        "deletable": false,
        "id": "CTdU0CO3Dw5K",
        "tags": [
          "code"
        ]
      },
      "outputs": [],
      "source": [
        "from simple_tokenize import simple_tokenize\n",
        "from collections import Counter\n",
        "\n",
        "def top_50_tokens(filename='Shakespeare.txt'):\n",
        "    top_50_tokens_list = []\n",
        "    word_counts = Counter()\n",
        "    # In this function, write Python code to find the 50 most frequent tokens in Shakespeare.txt\n",
        "    # Make sure that your code is commented\n",
        "    with open(filename) as f:\n",
        "      for line in f:\n",
        "          # tokenize, one line at a time\n",
        "          t = simple_tokenize(line)\n",
        "          word_counts.update(t)\n",
        "    top_50_tokens_list = word_counts.most_common(50)\n",
        "    return top_50_tokens_list\n"
      ]
    },
    {
      "cell_type": "code",
      "execution_count": null,
      "metadata": {
        "deletable": false,
        "id": "G0tWVMiTDw5K",
        "tags": [
          "tests"
        ],
        "colab": {
          "base_uri": "https://localhost:8080/"
        },
        "outputId": "71c88747-ca4a-473a-a433-c734a8a6dfa8"
      },
      "outputs": [
        {
          "output_type": "stream",
          "name": "stdout",
          "text": [
            "[('the', 27378), ('and', 26082), ('i', 20717), ('to', 19661), ('of', 17473), ('a', 14723), ('you', 13630), ('my', 12490), ('in', 10996), ('that', 10915), ('is', 9137), ('not', 8512), ('with', 7778), ('me', 7777), ('it', 7692), ('for', 7578), ('be', 6867), ('his', 6859), ('your', 6657), ('this', 6606), ('but', 6277), ('he', 6260), ('have', 5885), ('as', 5744), ('thou', 5491), ('him', 5205), ('so', 5056), ('will', 4977), ('what', 4469), ('thy', 4034), ('all', 3923), ('her', 3850), ('no', 3797), ('by', 3768), ('do', 3753), ('shall', 3592), ('if', 3500), ('are', 3405), ('we', 3298), ('thee', 3180), ('on', 3062), ('lord', 3062), ('our', 3061), ('king', 2871), ('good', 2834), ('now', 2789), ('sir', 2763), ('from', 2640), ('o', 2621), ('come', 2519)]\n"
          ]
        }
      ],
      "source": [
        "# Your tests here\n",
        "print(top_50_tokens('Shakespeare.txt'))"
      ]
    },
    {
      "cell_type": "markdown",
      "metadata": {
        "deletable": false,
        "id": "jFFC9DWxDw5L",
        "tags": [
          "instructions"
        ]
      },
      "source": [
        "Be sure to test the code that you have written by running it.   When you submit your notebook to us, we will run your code when we mark you assignment.   As a sanity test on you output, our reference implementation finds that the most frequent word is \"the\", which occurs 27378 times.\n",
        "\n",
        "---\n",
        "\n",
        "Once you have found the 50 most frequent tokens, let's move on to something slightly more complicated.\n",
        "\n",
        "#### Question 3 (4/10 marks):\n",
        "\n",
        "Instead of the most frequent tokens appearing in Shakespeare's works, suppose that we want a list of words that appear immediately after the word \"perfect\", on the same line, in Shakespeare's text.\n",
        "(Note: the \"words\" we are interested in for this question are tokens, as returned by simple_tokenize.)\n",
        "\n",
        "For example, *All's Well That Ends Well* includes the line\n",
        ">  Ere I can perfect mine intents, to kneel.\n",
        "\n",
        "so \"mine\" should be part of the output, since it follows \"perfect\" on this line.  \"intents\", \"to\", and \"kneel\" should NOT be part of the output (at least from this line of text). To keep the output from getting too long, include only words that appear after \"perfect\" more than once.\n",
        "\n",
        "Notes:\n",
        "* If \"perfect\" is the last word on a line, then nothing follows it - remember, we only want words that are on the same line!\n",
        "* If \"perfect\" is followed by \"perfect\" then this counts! Don't forget to consider the word after the second perfect, too!\n",
        "\n",
        "In the next box, implement the function `perfect_x` that returns a dictionary of key/value pairs, where the keys are the words that follow perfect on more than one line, and the values the number of lines in which the pattern is observed. For instance, if 'x' follows 'perfect' three times, the entry in the dictionary will be ('x':3) As a sanity check on your output, our reference implementation finds 5 such words."
      ]
    },
    {
      "cell_type": "code",
      "execution_count": null,
      "metadata": {
        "deletable": false,
        "id": "xe-JSeFYDw5M",
        "tags": [
          "code"
        ]
      },
      "outputs": [],
      "source": [
        "from simple_tokenize import simple_tokenize\n",
        "\n",
        "def perfect_x(filename = 'Shakespeare.txt'):\n",
        "    perfect_x_dict = {}\n",
        "    # In this function, write Python code to find tokens that follow \"perfect\" in Shakespeare.txt\n",
        "    # Make sure that your code is commented\n",
        "    with open(filename) as f:\n",
        "      for line in f:\n",
        "          # tokenize, one line at a time\n",
        "          t = simple_tokenize(line)\n",
        "\n",
        "          for i in range(len(t)):\n",
        "            # checking for perfect and if it is not the last word\n",
        "            if (t[i] == 'perfect') and (i+1 < len(t)):\n",
        "              next = t[i+1]\n",
        "              if next in perfect_x_dict:\n",
        "                perfect_x_dict[next] += 1\n",
        "              else:\n",
        "                perfect_x_dict[next] = 1\n",
        "      perfect_x_dict = {word:count for word,count in perfect_x_dict.items() if count>1}\n",
        "    return perfect_x_dict\n"
      ]
    },
    {
      "cell_type": "code",
      "execution_count": null,
      "metadata": {
        "deletable": false,
        "id": "NoSRbXiMDw5M",
        "tags": [
          "tests"
        ],
        "colab": {
          "base_uri": "https://localhost:8080/"
        },
        "outputId": "90097565-af8a-40f6-e48f-c1d6a4a4197a"
      },
      "outputs": [
        {
          "output_type": "stream",
          "name": "stdout",
          "text": [
            "{'honour': 2, 'in': 4, 'love': 4, 'yellow': 2, 'that': 2}\n"
          ]
        }
      ],
      "source": [
        "# Your tests here\n",
        "\n",
        "print(perfect_x('Shakespeare.txt'))"
      ]
    },
    {
      "cell_type": "markdown",
      "metadata": {
        "deletable": false,
        "id": "Q17qkDyRDw5M",
        "tags": [
          "instructions"
        ]
      },
      "source": [
        " When you are finished and ready to submit your assignment, download your .ipynb notebook file from Colab (File>Download .ipynb) to your machine, and then follow the submission instructions in the assignment."
      ]
    }
  ],
  "metadata": {
    "colab": {
      "provenance": [],
      "include_colab_link": true
    },
    "kernelspec": {
      "display_name": "Python 3",
      "language": "python",
      "name": "python3"
    },
    "language_info": {
      "codemirror_mode": {
        "name": "ipython",
        "version": 3
      },
      "file_extension": ".py",
      "mimetype": "text/x-python",
      "name": "python",
      "nbconvert_exporter": "python",
      "pygments_lexer": "ipython3",
      "version": "3.7.2"
    }
  },
  "nbformat": 4,
  "nbformat_minor": 0
}