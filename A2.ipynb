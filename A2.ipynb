{
  "cells": [
    {
      "cell_type": "markdown",
      "metadata": {
        "id": "view-in-github",
        "colab_type": "text"
      },
      "source": [
        "<a href=\"https://colab.research.google.com/github/dlkt101101/CS431/blob/main/A2.ipynb\" target=\"_parent\"><img src=\"https://colab.research.google.com/assets/colab-badge.svg\" alt=\"Open In Colab\"/></a>"
      ]
    },
    {
      "cell_type": "markdown",
      "metadata": {
        "id": "kNwlw_9ObJxP"
      },
      "source": [
        "## CS431 Data Intensive Distributed Analytics\n",
        "### Winter 2025 - Assignment 2\n",
        "---"
      ]
    },
    {
      "cell_type": "markdown",
      "metadata": {
        "id": "3mSm7EZpbJxb"
      },
      "source": [
        "**Please edit this (text) cell to provide your name and UW student ID number!**\n",
        "* **Name:** _Darren Lam Kin Teng_\n",
        "* **ID:** _20977843_"
      ]
    },
    {
      "cell_type": "markdown",
      "metadata": {
        "id": "fZI90WX2bJxc"
      },
      "source": [
        "---\n",
        "#### Overview\n",
        "For this assignment, you will be using Python and Spark to analyze the [pointwise mutual information (PMI)](http://en.wikipedia.org/wiki/Pointwise_mutual_information) of tokens in the text of Shakespeare's plays.    For this assignment, you will need the same text file (`Shakespeare.txt`) and Python tokenizer module, `simple_tokenize.py`, that you used for the first two assignments.    You will also use the same definition of PMI that was used for [Assignment 1](https://www.student.cs.uwaterloo.ca/~cs451/assignment1-431.html).\n",
        "\n",
        "We first need to install Apache Spark. Run the next block to download and install Spark. It will take about a minute to finish the instalation.\n",
        "\n",
        "### For those working on their own machine\n",
        "If you want to use your own machine instead of colab, you can skip this box and install Spark yourself. Make sure to install findspark too! Put Spark in whichever directory makes the most sense for you. Don't forget to set SPARK_HOME appropriately\n",
        "\n",
        "(I won't be able to help with this)"
      ]
    },
    {
      "cell_type": "code",
      "execution_count": 1,
      "metadata": {
        "id": "lh5NCoc8fsSO",
        "outputId": "ef392652-5b7f-4530-d2a0-9966ffd20586",
        "colab": {
          "base_uri": "https://localhost:8080/"
        }
      },
      "outputs": [
        {
          "output_type": "stream",
          "name": "stdout",
          "text": [
            "W: Skipping acquire of configured file 'main/source/Sources' as repository 'https://r2u.stat.illinois.edu/ubuntu jammy InRelease' does not seem to provide it (sources.list entry misspelt?)\n"
          ]
        }
      ],
      "source": [
        "!apt-get update -qq > /dev/null\n",
        "!apt-get install openjdk-8-jdk-headless -qq > /dev/null\n",
        "!curl -Os https://student.cs.uwaterloo.ca/~cs451/spark/spark-3.4.3-bin-hadoop3.tgz\n",
        "!tar xzf spark-3.4.3-bin-hadoop3.tgz\n",
        "!pip install -q findspark"
      ]
    },
    {
      "cell_type": "markdown",
      "metadata": {
        "id": "LdDZO9Et6dg2"
      },
      "source": [
        "## Google Colab Only\n",
        "The following box will set the environment variables to the right spots on Google colab. If using your own machine, you should have set these elsewhere already so you can skip this box"
      ]
    },
    {
      "cell_type": "code",
      "execution_count": 2,
      "metadata": {
        "id": "qsO2c6rB6dg3"
      },
      "outputs": [],
      "source": [
        "import os\n",
        "os.environ[\"JAVA_HOME\"] = \"/usr/lib/jvm/java-8-openjdk-amd64\"\n",
        "os.environ[\"SPARK_HOME\"] = \"/content/spark-3.4.3-bin-hadoop3\""
      ]
    },
    {
      "cell_type": "markdown",
      "metadata": {
        "id": "TEtWJXrebsdE"
      },
      "source": [
        "To use Spark from within a Python program, it is first necessary to tell the Python interpreter where the Spark installation is located. The code in the following cell tells Python how to find this Spark installation. This code creates SparkContext (sc) for you. Do not change this block."
      ]
    },
    {
      "cell_type": "code",
      "execution_count": 3,
      "metadata": {
        "id": "Xnxe-BhPmbBW"
      },
      "outputs": [],
      "source": [
        "import findspark\n",
        "findspark.init()\n",
        "\n",
        "from pyspark import SparkContext, SparkConf\n",
        "\n",
        "spark_conf = SparkConf()\\\n",
        "  .setAppName(\"YourTest\")\\\n",
        "  .setMaster(\"local[*]\")\n",
        "\n",
        "sc = SparkContext.getOrCreate(spark_conf)"
      ]
    },
    {
      "cell_type": "markdown",
      "metadata": {
        "id": "Wk4QOfCtbJxe"
      },
      "source": [
        "Once Python knows where Spark is located, you can create a `SparkContext`.   All Spark commands must run within an active `SparkContext`.   The code below will create a `SparkContext`, and store a reference to the context in the variable `sc`.\n",
        "The `appName` parameter assigns a name of your choosing to the Spark jobs that are created in this context - this is useful mostly for debugging.   The `master` parameter indicates that Spark jobs will run in local mode, using two threads.   This means that your Spark jobs are not really running on a cluster, and are instead running in a single process on the local machine.   You program Spark jobs the same way whether they run in local mode or on a cluster - the main difference between local and cluster modes is, of course, performance.\n",
        "\n",
        "Next, let's test that your `SparkContext` has been set up properly by running some simple test code.   This code uses a single Spark job to estimate the value of Euler's number $e$. One way to calculate $e$ is to use the following serries by Jacob Bernoulli:\n",
        "\n",
        "$p_n = 1 - \\frac{1}{1!} + \\frac{1}{2!} - \\frac{1}{3!} + \\cdots + \\frac{(-1)^n}{n!} = \\sum_{k = 0}^n \\frac{(-1)^k}{k!}$\n",
        "\n",
        "As n tends to infinity, $p_n$ approaches $1/e$.\n",
        "\n",
        "In the following code,  `parallelize()` and `map()` are Spark *transformations*, and `reduce()` is a Spark *action*.   Study the code in the cell below, then go ahead and run it.   It should take several seconds, since a Spark job is being created and executed, and should print an estimate of $e$ when it finishes.   \n"
      ]
    },
    {
      "cell_type": "code",
      "execution_count": 4,
      "metadata": {
        "colab": {
          "base_uri": "https://localhost:8080/"
        },
        "id": "octW5eVWbJxg",
        "outputId": "f0802116-8585-4a1a-a426-e3b60108a160"
      },
      "outputs": [
        {
          "output_type": "stream",
          "name": "stdout",
          "text": [
            "e =  2.718281828459044\n"
          ]
        }
      ],
      "source": [
        "import math\n",
        "\n",
        "n= 10000\n",
        "inverse_e = sc.parallelize(range(0, n)).map(lambda x: ((-1)**x) * (1 / math.factorial(x))).reduce(lambda x,y:x+y)\n",
        "e = 1 / inverse_e\n",
        "print(\"e = \", e)"
      ]
    },
    {
      "cell_type": "markdown",
      "metadata": {
        "id": "AD9CXMDmbJxg"
      },
      "source": [
        "---\n",
        "#### Question 1  (4/30 marks):\n",
        "\n",
        "In the following cell, briefly explain how the example works.   What is the Spark job doing, and how is it used to estimate the value of $e$? How accurate is our estimate?"
      ]
    },
    {
      "cell_type": "markdown",
      "metadata": {
        "id": "eBiT9mjQbJxh"
      },
      "source": [
        "#### Your answer to Question 1:\n",
        "The spark job first initializes a RDD from 0 to n-1, these are the x values. The map job evaluates the function: $\\frac{(-1)^x}{x!}$. Finally, reduce adds all the values for the summation: $∑_{x=0}^n\\frac{(-1)^x}{x!}$."
      ]
    },
    {
      "cell_type": "markdown",
      "metadata": {
        "id": "viOD-n5_bJxh"
      },
      "source": [
        "---\n",
        "### Important\n",
        "\n",
        "###### The questions that follow ask you to implement functions whose prototypes are given to you. Do **NOT** change the prototypes of the functions. Do **NOT** write code outside of the functions. All necessary code should be included in the function body (except for import statements). You may declare functions inside of the function body. When marking, we will execute your code by calling the functions from an external program, which is why your code cannot rely on statements running outside functions. Please remove any call to the functions that you may have introduced for test purposes before submitting your notebook."
      ]
    },
    {
      "cell_type": "markdown",
      "metadata": {
        "id": "0VpN26IL6dhC"
      },
      "source": [
        "Note: On this and the following assignment you will typically be told to use Spark, not the Python driver program.\n",
        "That doesn't mean \"do not use Python\"! It means you should do as much as possible using RDD transformations and actions, and little-to-nothing in the driver itself.\n",
        "\n",
        "Example:\n",
        "\n",
        "`someRDD.collect()[:10]` - this is bad! It's collecting *all* of the data onto the driver when we were only looking for 10  \n",
        "`someRDD.take(10)` - much better!\n",
        "\n",
        "Extra examples of what not to do:\n",
        "\n",
        "`sc.parallelize(myFile.readlines())` - no! Have the cluster load the file using `sc.textFile()` instead!\n",
        "\n",
        "`newRDD = sc.parallelize(<some computation>.collect())` - no!  \n",
        "`newRDD = <some computation>` - yes!"
      ]
    },
    {
      "cell_type": "markdown",
      "metadata": {
        "id": "KgkmAOV9bJxi"
      },
      "source": [
        "---\n",
        "#### Question 2  (4/30 marks):\n",
        "\n",
        "Now it is your turn to write some Spark programs. Start with the simple task of counting the number of *distinct* tokens which appear in `Shakespeare.txt`.   You have already written Python code to do this in Assignment 1, but for this assignment we want you to use Spark to solve the same problem.   You should compare the answer you get using Spark with the answer you got from your pure-Python solution from Assignment 1.   Both answers should, of course, be the same.\n",
        "\n",
        "Run the next block to download the text file (Shakespeare.txt) and the Python tokenizer module (simple_tokenize.py).\n",
        "\n",
        "### Using own machine\n",
        "\n",
        "If not on google colab, you might not have wget. If not, you can just ctrl+click those links and save the files in the same directory as your Notebook files. On future assignments you won't need to re-download files you already have (they don't change)."
      ]
    },
    {
      "cell_type": "code",
      "execution_count": 5,
      "metadata": {
        "id": "rcXDTtuqENqF"
      },
      "outputs": [],
      "source": [
        "!curl -Os https://student.cs.uwaterloo.ca/~cs451/content/cs431/Shakespeare.txt\n",
        "!curl -Os https://student.cs.uwaterloo.ca/~cs451/content/cs431/simple_tokenize.py"
      ]
    },
    {
      "cell_type": "markdown",
      "metadata": {
        "id": "hYH29hFxyeu6"
      },
      "source": [
        "Your code should use Spark, not the Python driver code, to read `Shakespeare.txt` and do the counting.   The idea is to use Spark to give you a data-parallel alternative to the sequential Python solution you wrote for Assignment 1.\n",
        "\n",
        "Write your solution for question 2 in the code cell below, by implementing the `count_distinct_tokens` function. It should use the `SparkContext` which was created previously (referenced by the variable `sc`). The function `count_distinct_tokens` must return the number of distinct tokens."
      ]
    },
    {
      "cell_type": "code",
      "execution_count": 18,
      "metadata": {
        "id": "PuFxV3z8bJxi"
      },
      "outputs": [],
      "source": [
        "# A2Q2 BOX\n",
        "from simple_tokenize import simple_tokenize\n",
        "\n",
        "# Returns the count of distinct tokens in the `Shakespeare.txt` dataset\n",
        "def count_distinct_tokens(filename=\"Shakespeare.txt\"):\n",
        "    # your solution to Question 2 here\n",
        "    RDD = sc.textFile(filename)\n",
        "    unique = RDD.flatMap(simple_tokenize).distinct().count()\n",
        "    return unique"
      ]
    },
    {
      "cell_type": "code",
      "source": [
        "data = [\"hello world\", \"how are you\", \"spark is great\"]\n",
        "rdd = sc.textFile(data)"
      ],
      "metadata": {
        "id": "POKItIQUeIlQ"
      },
      "execution_count": 48,
      "outputs": []
    },
    {
      "cell_type": "code",
      "source": [
        "rdd.collect()"
      ],
      "metadata": {
        "colab": {
          "base_uri": "https://localhost:8080/"
        },
        "id": "hS_ozdM0ePRl",
        "outputId": "f1f443be-ca2c-47a0-c81e-ab5284f40b6c"
      },
      "execution_count": 51,
      "outputs": [
        {
          "output_type": "execute_result",
          "data": {
            "text/plain": [
              "['hello world', 'how are you', 'spark is great']"
            ]
          },
          "metadata": {},
          "execution_count": 51
        }
      ]
    },
    {
      "cell_type": "code",
      "source": [
        "count_distinct_tokens()"
      ],
      "metadata": {
        "colab": {
          "base_uri": "https://localhost:8080/"
        },
        "id": "e7Ntwui1TivZ",
        "outputId": "d19066fa-abfc-4b8e-d6fe-faadd61a16d6"
      },
      "execution_count": 19,
      "outputs": [
        {
          "output_type": "execute_result",
          "data": {
            "text/plain": [
              "25975"
            ]
          },
          "metadata": {},
          "execution_count": 19
        }
      ]
    },
    {
      "cell_type": "markdown",
      "metadata": {
        "id": "WjlauZkz6dhK"
      },
      "source": [
        "Since the input file is the same as it was in A1 you should get the same ~26K as you got then."
      ]
    },
    {
      "cell_type": "markdown",
      "metadata": {
        "id": "nHPRYLElbJxj"
      },
      "source": [
        "---\n",
        "#### Question 3  (4/30 marks):\n",
        "\n",
        "Next, write a Spark program that will count the number of distinct token pairs in `Shakespeare.txt`, as you did in Assignment 1. Again, ensure that the answer that you get using Spark matches the answer you got in the first assignment.\n",
        "\n",
        "Write your solution for question 3 by implementing the `count_distinct_pairs` function in the code cell below.   It should use the `SparkContext` which was created previously (referenced by the variable `sc`). The function `count_distinct_pairs` must return the number of distinct token pairs.\n",
        "\n"
      ]
    },
    {
      "cell_type": "code",
      "execution_count": 121,
      "metadata": {
        "id": "n43vVrAebJxk"
      },
      "outputs": [],
      "source": [
        "# A2Q3 BOX\n",
        "from simple_tokenize import simple_tokenize\n",
        "from itertools import permutations\n",
        "\n",
        "def getPairs(line):\n",
        "  \"\"\"\n",
        "  getPairs takes in a text file and returns all pairs of tokens per line\n",
        "  \"\"\"\n",
        "  lop = []\n",
        "  lop.extend((x,y) for x,y in list(permutations(simple_tokenize(line),2)) if x != y)\n",
        "  return lop\n",
        "\n",
        "\n",
        "# Returns the count of distinct pairs in the `Shakespeare.txt` dataset\n",
        "def count_distinct_pairs(filename=\"Shakespeare.txt\"):\n",
        "  RDD = sc.textFile(filename) # this creates an RDD. (it looks like a list of strings but each line is distributed)\n",
        "  retrieve_pair_counts = RDD.flatMap(getPairs).distinct().count()\n",
        "  return retrieve_pair_counts"
      ]
    },
    {
      "cell_type": "code",
      "source": [
        "count_distinct_pairs()"
      ],
      "metadata": {
        "colab": {
          "base_uri": "https://localhost:8080/"
        },
        "id": "j89W3Wehe693",
        "outputId": "683ce094-d9be-44e3-c0c8-a15efde8fe53"
      },
      "execution_count": 123,
      "outputs": [
        {
          "output_type": "execute_result",
          "data": {
            "text/plain": [
              "1969760"
            ]
          },
          "metadata": {},
          "execution_count": 123
        }
      ]
    },
    {
      "cell_type": "markdown",
      "metadata": {
        "id": "_BSU4dnb6dhN"
      },
      "source": [
        "Again, you should be getting just shy of 2M here, the same value you got on A1."
      ]
    },
    {
      "cell_type": "markdown",
      "metadata": {
        "id": "lUUpIg1zbJxk"
      },
      "source": [
        "---\n",
        "#### Question 4  (6/30 marks):\n",
        "\n",
        "Next, write Spark code that will calculate the probability $p(x)$ (as defined in Assignment 1) for every distinct token $x$ in `Shakespeare.txt`.   Your function should return the 50 highest-probability tokens, and their counts and probabilities.\n",
        "\n",
        "Make sure that your solution calculates probabilities and identifies the 50 highest-probability tokens in a data-parallel fashion, using Spark transformations and actions.   Only the 50 highest-probability tokens (and their counts and probabilities) should be returned by Spark to your driver code.\n",
        "\n",
        "Write your solution for question 4 by implementing the `top_50_tokens_probabilities` function in the code cell below. It should use the `SparkContext` which was created previously (referenced by the variable `sc`). The function `top_50_tokens_probabilities` must return a list of 50 (probability, count, token) tuples, ordered by probability, that is, the list returned by the function should be of the form: `[(proba1, count1, token1), (proba2, count2, token2), ..., (proba50, count50, token50)]`"
      ]
    },
    {
      "cell_type": "code",
      "execution_count": 107,
      "metadata": {
        "id": "TmKHDBW9bJxl"
      },
      "outputs": [],
      "source": [
        "# A2Q4 BOX\n",
        "from simple_tokenize import simple_tokenize\n",
        "\n",
        "# Returns a list of the top 50 (probability, count, token) tuples, ordered by probability\n",
        "def top_50_tokens_probabilities(filename=\"Shakespeare.txt\"):\n",
        "    # your solution to Question 4 here\n",
        "    RDD = sc.textFile(filename)\n",
        "    # token_count = RDD.flatMap(simple_tokenize).map(lambda x: (x,1)).reduceByKey(lambda x,y:x+y)\n",
        "    line_count = RDD.count() # number of lines in the file\n",
        "    tokens = RDD.map(simple_tokenize).filter(lambda tokens: len(tokens) > 0)\n",
        "    unordered_result = (\n",
        "        tokens.flatMap(lambda tokens: [(token,1) for token in set(tokens)])\n",
        "        .reduceByKey(lambda x,y: x+y)\n",
        "        .map(lambda x: (round(100*(x[1]/line_count), 2), x[1], x[0]))\n",
        "    )\n",
        "\n",
        "    ordered_prob_tokens = unordered_result.takeOrdered(50, key= lambda x:-x[0])\n",
        "    return ordered_prob_tokens"
      ]
    },
    {
      "cell_type": "markdown",
      "metadata": {
        "id": "5easiDnz6dhP"
      },
      "source": [
        "Hint: \"and\" is the most frequent token, and \"the\" is close."
      ]
    },
    {
      "cell_type": "markdown",
      "metadata": {
        "id": "h7FJUeGTbJxl"
      },
      "source": [
        "---\n",
        "#### Question 5  (6/30 marks):\n",
        "\n",
        "Next, write the code for the function `PMI` that will take a positive integer threshold $T$ as an argument, and then return all token pairs that co-occur at least $T$ times in `Shakespeare.txt`.   For each such pair $(x,y)$, the function should also return PMI$(x,y)$, the co-occurrence count of the pair, the number of times $x$ appears, and the number of times $y$ appears. You can compare the results produced by this code with the results of Two-Token queries (from Assignment 1) for consistency.\n",
        "\n",
        "Write your solution for question 5 by implementing the function `PMI` in the code cell below. It should use the `SparkContext` which was created previously (referenced by the variable `sc`). The function `PMI` should return a list of ((token1, token2), pmi, co-occurrence_count, token1_count, token2_count) tuples, that is, the list returned by the function should be of the form: `[((token1, token2), pmi, cooc_count, token1_count, token2_count), (...), ((other_token1, other_token2), other_pmi, other_cooc_count, other_token1_count, other_token2_count)]`.\n",
        "\n",
        "\n",
        "As always, calculations should be done in data-parallel fashion by using Spark.\n",
        "\n",
        "Note: You're using a \"pairs\" approach here, since the key is a pair of tokens! Also, if converted to a dictionary, this list is able to answer two-token queries from A1!"
      ]
    },
    {
      "cell_type": "code",
      "execution_count": 127,
      "metadata": {
        "id": "MZMY3pI9bJxm",
        "colab": {
          "base_uri": "https://localhost:8080/"
        },
        "outputId": "b4a99e7e-4925-4a88-d305-46dc450884d6"
      },
      "outputs": [
        {
          "output_type": "execute_result",
          "data": {
            "text/plain": [
              "[('by', 3768), ('william', 123)]"
            ]
          },
          "metadata": {},
          "execution_count": 127
        }
      ],
      "source": [
        "from pdb import line_prefix\n",
        "# A2Q5 BOX\n",
        "from simple_tokenize import simple_tokenize\n",
        "from math import log\n",
        "from itertools import permutations, combinations\n",
        "\n",
        "# Returns a list of tuples with the following format:\n",
        "# ((token1, token2), pmi, co-occurrence_count, token1_count, token2_count)\n",
        "def PMI(threshold):\n",
        "    # your solution to Question 5 here\n",
        "    RDD = sc.textFile(\"Shakespeare.txt\")\n",
        "    line_count = RDD.count() # number of lines in the file\n",
        "    tokens = RDD.map(simple_tokenize).filter(lambda tokens: len(tokens) > 0)\n",
        "    pair_counts = (\n",
        "        tokens\n",
        "        .flatMap(lambda x: [(pair,1) for pair in combinations(x,2) if pair[0] != pair[1]])\n",
        "        .reduceByKey(lambda x,y: x+y)\n",
        "        .filter(lambda x: x[1] >= threshold)\n",
        "    )\n",
        "\n",
        "    token_count = (\n",
        "        tokens\n",
        "        .flatMap(lambda tokens: [(x,1) for x in tokens])\n",
        "        .reduceByKey(lambda x,y: x+y)\n",
        "    )\n",
        "\n",
        "    result = (\n",
        "        pair_counts\n",
        "        .flatmap(lambda x: x)\n",
        "    )\n",
        "\n",
        "    return token_count.take(2)\n",
        "\n",
        "PMI(1)"
      ]
    },
    {
      "cell_type": "code",
      "source": [
        "def PMI_pairs_approach(T):\n",
        "    # Alternative implementation using pairs approach\n",
        "\n",
        "    # Read and tokenize\n",
        "    lines = sc.textFile(\"Shakespeare.txt\")\n",
        "\n",
        "    def tokenize_line(line):\n",
        "        tokens = re.findall(r'\\b[a-zA-Z]+\\b', line.lower())\n",
        "        return tokens\n",
        "\n",
        "    documents = lines.map(tokenize_line).filter(lambda tokens: len(tokens) > 0)\n",
        "    total_docs = documents.count()\n",
        "\n",
        "    # Pairs approach\n",
        "    def pairs_mapper(tokens):\n",
        "        pairs = []\n",
        "        unique_tokens = list(set(tokens))  # Use set to get unique tokens per document\n",
        "\n",
        "        for i, token1 in enumerate(unique_tokens):\n",
        "            for token2 in unique_tokens[i+1:]:\n",
        "                # Create sorted pair to ensure consistency\n",
        "                pair = tuple(sorted([token1, token2]))\n",
        "                pairs.append((pair, 1))\n",
        "        return pairs\n",
        "\n",
        "    # Get co-occurrence counts\n",
        "    pair_counts_rdd = documents.flatMap(pairs_mapper).reduceByKey(lambda a, b: a + b)\n",
        "\n",
        "    # Get individual token frequencies\n",
        "    def token_mapper(tokens):\n",
        "        unique_tokens = set(tokens)\n",
        "        return [(token, 1) for token in unique_tokens]\n",
        "\n",
        "    token_freq_rdd = documents.flatMap(token_mapper).reduceByKey(lambda a, b: a + b)\n",
        "    token_freq_dict = dict(token_freq_rdd.collect())\n",
        "    token_freq_broadcast = sc.broadcast(token_freq_dict)\n",
        "\n",
        "    # Calculate PMI for pairs meeting threshold\n",
        "    def calculate_pmi_pair(pair_count):\n",
        "        pair, count = pair_count\n",
        "        if count >= T:\n",
        "            token1, token2 = pair\n",
        "            freq1 = token_freq_broadcast.value.get(token1, 0)\n",
        "            freq2 = token_freq_broadcast.value.get(token2, 0)\n",
        "\n",
        "            P_xy = count / total_docs\n",
        "            P_x = freq1 / total_docs\n",
        "            P_y = freq2 / total_docs\n",
        "\n",
        "            if P_x > 0 and P_y > 0 and P_xy > 0:\n",
        "                pmi = math.log2(P_xy / (P_x * P_y))\n",
        "                return (pair, pmi, count, freq1, freq2)\n",
        "        return None\n",
        "\n",
        "    results = pair_counts_rdd.map(calculate_pmi_pair).filter(lambda x: x is not None).collect()\n",
        "    token_freq_broadcast.unpersist()\n",
        "\n",
        "    return results"
      ],
      "metadata": {
        "id": "LgpBeQ-cnsbQ"
      },
      "execution_count": null,
      "outputs": []
    },
    {
      "cell_type": "markdown",
      "metadata": {
        "id": "R5QkpXFWbJxm"
      },
      "source": [
        "---\n",
        "#### Question 6  (6/30 marks):\n",
        "\n",
        "Finally, write Spark code for the function `PMI_one_token`, that will take a positive integer threshold $T$ and a sample size $N$ as arguments. For every token $x$ in `Shakespeare.txt`, your code should find all tokens $y$ that co-occur with $x$ at least $T$ times, as well as PMI$(x,y)$ for each such pair, the co-occurrence count of the pair, the number of times $x$ appears, and the number of times $y$ appears.\n",
        "\n",
        "For each $x$, the output of your program should be equivalent to the output that would be produced by a One-Token query on $x$ (see Assignment 1), with threshold $T$. Rather than producing output for all possible tokens $x$, the function should produce output only for $N$ different $x$'s, chosen uniformly at random from among the $x$'s with a non-empty list of co-occurrences.\n",
        "\n",
        "If there are fewer than $N$ different $x$'s, then the function should output all of them.  In other words, if $T$ is very large, the function would output nothing.\n",
        "\n",
        "Write your solution for question 6 by implementing the function `PMI_one_token` in the code cell below. It should use the `SparkContext` which was created previously (referenced by the variable `sc`). The function `PMI_one_token` should return a list of $N$ tuples of the form `(token, [ list_of_cooccurring_tokens ])`, where each entry in `list_of_cooccurring_tokens` is of the form `((token1, token2), pmi, cooc_count, token1_count, token2_count)`.\n",
        "\n",
        "For instance, if $N$ = 2 and the randomly selected tokens are \"if\" and \"you\", a valid format for the value returned by `PMI_one_token` would be:\n",
        "```\n",
        "[('if', [(('if', 'you'), -0.09813466615111513, 1975, 16624, 18237), (('if', 'a'), 0.03856379243802408, 1568, 16624, 10569)]), ('you', [(('you', 'if'), -0.09813466615111513, 1975, 18237, 16624)])]\n",
        "```\n",
        "\n",
        "Hint: Sampling must be done at the very last step.\n",
        "Hint: there is an action that returns a sample subset from an RDD. (`takeSample`)\n",
        "Note: You should be taking a \"stripes\" approach here. While you *can* use a pairs approach and then convert to stripes at the end, it's not as efficient."
      ]
    },
    {
      "cell_type": "code",
      "execution_count": null,
      "metadata": {
        "id": "eUrjYZm6bJxn"
      },
      "outputs": [],
      "source": [
        "# A2Q6 BOX\n",
        "from simple_tokenize import simple_tokenize\n",
        "from math import log\n",
        "\n",
        "# Returns a list of samp_size tuples with the following format:\n",
        "# (token, [ list_of_cooccurring_tokens ])\n",
        "# where list_of_cooccurring_tokens is of the form\n",
        "# [((token1, token2), pmi, cooc_count, token1_count, token2_count), ...]\n",
        "def PMI_one_token(threshold, samp_size):\n",
        "    # your solution to Question 6 here\n",
        "    pass # this is so the box is runnable - you should delete this when writing your solution\n"
      ]
    },
    {
      "cell_type": "markdown",
      "metadata": {
        "id": "-9gADJ6wbJxo"
      },
      "source": [
        "---\n",
        "Don't forget to save your workbook!   When you are finished and you are ready to submit your assignment, download your notebook file (.ipynb) from the hub to your machine, and then follow the submission instructions in the assignment."
      ]
    }
  ],
  "metadata": {
    "colab": {
      "provenance": [],
      "include_colab_link": true
    },
    "kernelspec": {
      "display_name": "Python 3",
      "language": "python",
      "name": "python3"
    },
    "language_info": {
      "codemirror_mode": {
        "name": "ipython",
        "version": 3
      },
      "file_extension": ".py",
      "mimetype": "text/x-python",
      "name": "python",
      "nbconvert_exporter": "python",
      "pygments_lexer": "ipython3",
      "version": "3.6.8"
    }
  },
  "nbformat": 4,
  "nbformat_minor": 0
}